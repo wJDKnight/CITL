{
 "cells": [
  {
   "cell_type": "markdown",
   "id": "entertaining-texture",
   "metadata": {},
   "source": [
    "# Prepare data for CITL\n",
    "Here, we use two data sets as examples for how to prepare data. The data sets were used in the article of CITL (Wei et al., 2021).\n",
    "\n",
    "## Create from fastq\n",
    "The raw data of single-cell sequencing is in fastq format. Annotations of spliced/unspliced reads could be obtained using [velocyto CLI](http://velocyto.org/velocyto.py/tutorial/cli.html) or [kallisto](https://linnarssonlab.org/loompy/kallisto/index.html). Usage of these tools is in their documents. \n",
    "## Estimate RNA velocity \n",
    "The tools mentioned above will give outputs in loom format, containing the annotations of spliced/unspliced reads. With the annotations, we can estimate RNA velocity throug two methods: [*velocyto*](http://velocyto.org/) and [*scVelo*](https://scvelo.readthedocs.io/). Both of them are compatible with CITL. In the following examples, we use *velocyto*.\n",
    "\n",
    "We considered two data sets in the article. Data set 1 was from mouse P0 and P5 dentate gyrus (Zeisel et al., 2018) and data set 2 was the human week ten fetal forebrain data set (La Manno et al., 2018). Both data sets were referred to in *velocyto* as well. Detailed procedures of estimating RNA velocity in these data sets have been described in *velocyto*'s [notebooks](https://github.com/velocyto-team/velocyto-notebooks/tree/master/python). Here lists some key parameters of the procedures.\n",
    "###  Data set 1"
   ]
  },
  {
   "cell_type": "code",
   "execution_count": 1,
   "id": "traditional-extension",
   "metadata": {},
   "outputs": [],
   "source": [
    "#The minimum number of spliced molecules detected considering all the cells\n",
    "min_expr_counts = 40\n",
    "#The minimum number of cells that express spliced molecules of a gene\n",
    "min_cells_express = 30\n",
    "#The minimum number of unspliced molecules detected considering all the cells\n",
    "min_expr_counts_U = 25\n",
    "#The minimum number of cells that express unspliced molecules of a gene\n",
    "min_cells_express_U = 20\n",
    "#The number to select rank genes on the basis of a CV vs mean fit\n",
    "N = 3000\n",
    "## k for KNN imputation\n",
    "k =500\n"
   ]
  },
  {
   "cell_type": "markdown",
   "id": "specific-auckland",
   "metadata": {},
   "source": [
    "### Data set 2"
   ]
  },
  {
   "cell_type": "code",
   "execution_count": null,
   "id": "unusual-momentum",
   "metadata": {},
   "outputs": [],
   "source": [
    "#The minimum number of spliced molecules detected considering all the cells\n",
    "min_expr_counts = 30\n",
    "#The minimum number of cells that express spliced molecules of a gene\n",
    "min_cells_express = 20\n",
    "#The minimum number of unspliced molecules detected considering all the cells\n",
    "min_expr_counts_U = 25\n",
    "#The minimum number of cells that express unspliced molecules of a gene\n",
    "min_cells_express_U = 20\n",
    "#The number to select rank genes on the basis of a CV vs mean fit\n",
    "N = 2000\n",
    "## k for KNN imputation\n",
    "k =550"
   ]
  },
  {
   "cell_type": "markdown",
   "id": "animated-spice",
   "metadata": {},
   "source": [
    "After running the codes in the notebooks, normalized expression levels and RNA velocity of genes can be save as following codes. "
   ]
  },
  {
   "cell_type": "code",
   "execution_count": null,
   "id": "patent-desperate",
   "metadata": {},
   "outputs": [],
   "source": [
    "import velocyto as vcy\n",
    "#load data set\n",
    "vlm = vcy.VelocytoLoom(\"dataset.loom\")\n",
    "#...\n",
    "#...\n",
    "#...(codes in the notebook)\n",
    "\n",
    "velocity=np.transpose(vlm.delta_S)\n",
    "np.savetxt('delta_s.csv',velocity,delimiter=',')\n",
    "\n",
    "x=np.transpose(vlm.Sx_sz)\n",
    "np.savetxt('Spliced.csv',x,delimiter=',')\n",
    "\n",
    "import csv\n",
    "with open('gene_names.csv', 'w') as csvfile:\n",
    "\tspamwriter = csv.writer(csvfile)\n",
    "\tspamwriter.writerow(vlm.ra['Gene'])"
   ]
  },
  {
   "cell_type": "markdown",
   "id": "instant-coaching",
   "metadata": {},
   "source": [
    "## Shape of the data\n",
    "CITL requires matrices of the current expression levels (\"Spliced.csv\"), the changing expression levels (\"delta_s.csv\") and names of genes (\"gene_names.csv\"). Suppose there are $n$ cells and $p$ genes left after the filter. \"Spliced.csv\" should be a matrix with $n$ rows and $p$ columns without head line and index column. The shape of \"delta_s.csv\" is same as \"Spliced.csv\". \"gene_names.csv\" has one row recording $p$ names of genes. "
   ]
  },
  {
   "cell_type": "code",
   "execution_count": null,
   "id": "sporting-thumb",
   "metadata": {},
   "outputs": [],
   "source": []
  }
 ],
 "metadata": {
  "kernelspec": {
   "display_name": "Python 3",
   "language": "python",
   "name": "python3"
  },
  "language_info": {
   "codemirror_mode": {
    "name": "ipython",
    "version": 3
   },
   "file_extension": ".py",
   "mimetype": "text/x-python",
   "name": "python",
   "nbconvert_exporter": "python",
   "pygments_lexer": "ipython3",
   "version": "3.6.10"
  }
 },
 "nbformat": 4,
 "nbformat_minor": 5
}
